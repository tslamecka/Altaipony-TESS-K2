{
 "cells": [
  {
   "cell_type": "code",
   "execution_count": 1,
   "metadata": {},
   "outputs": [],
   "source": [
    "from altaipony.lcio import from_mast\n",
    "import matplotlib.pyplot as plt\n",
    "import numpy as np\n",
    "import pandas as pd\n",
    "pd.set_option('display.float_format', lambda x: '%.6f' % x)\n",
    "%matplotlib inline"
   ]
  },
  {
   "cell_type": "code",
   "execution_count": 2,
   "metadata": {},
   "outputs": [
    {
     "name": "stderr",
     "output_type": "stream",
     "text": [
      "<>:1: DeprecationWarning: invalid escape sequence '\\V'\n",
      "<>:2: DeprecationWarning: invalid escape sequence '\\V'\n",
      "<>:1: DeprecationWarning: invalid escape sequence '\\V'\n",
      "<>:2: DeprecationWarning: invalid escape sequence '\\V'\n",
      "C:\\Users\\thoma\\AppData\\Local\\Temp\\ipykernel_3168\\3005844306.py:1: DeprecationWarning: invalid escape sequence '\\V'\n",
      "  dfk = pd.read_csv(\"C:\\Vs_code_projects\\mdwarf_flares\\K2_catalogues\\K2_catalogue_cut_revised.csv\")\n",
      "C:\\Users\\thoma\\AppData\\Local\\Temp\\ipykernel_3168\\3005844306.py:2: DeprecationWarning: invalid escape sequence '\\V'\n",
      "  dft = pd.read_csv(\"C:\\Vs_code_projects\\mdwarf_flares\\TESS_catalogues\\TESS_catalogue_cut_revised.csv\")\n"
     ]
    }
   ],
   "source": [
    "dfk = pd.read_csv(\"C:\\Vs_code_projects\\mdwarf_flares\\K2_catalogues\\K2_catalogue_cut_revised.csv\")\n",
    "dft = pd.read_csv(\"C:\\Vs_code_projects\\mdwarf_flares\\TESS_catalogues\\TESS_catalogue_cut_revised.csv\")"
   ]
  },
  {
   "cell_type": "code",
   "execution_count": 4,
   "metadata": {},
   "outputs": [
    {
     "name": "stdout",
     "output_type": "stream",
     "text": [
      "30\n",
      "4\n"
     ]
    }
   ],
   "source": [
    "dfk_new = dfk[dfk['Flares per day'] >= 0.5]\n",
    "dft_new = dft[dft['Flares per day'] >= 0.5]\n",
    "print(len(dfk_new))\n",
    "print(len(dft_new))"
   ]
  },
  {
   "cell_type": "code",
   "execution_count": 5,
   "metadata": {},
   "outputs": [
    {
     "data": {
      "text/plain": [
       "834     350565184\n",
       "936     114959349\n",
       "1047    281660314\n",
       "1965      9709224\n",
       "Name: TIC ID, dtype: int64"
      ]
     },
     "execution_count": 5,
     "metadata": {},
     "output_type": "execute_result"
    }
   ],
   "source": [
    "dft_new['TIC ID']"
   ]
  },
  {
   "cell_type": "code",
   "execution_count": 6,
   "metadata": {},
   "outputs": [
    {
     "data": {
      "text/plain": [
       "132     201160212\n",
       "134     202067522\n",
       "135     202068482\n",
       "148     211329479\n",
       "153     202704279\n",
       "343     202084610\n",
       "380     202135872\n",
       "462     220152078\n",
       "466     211307660\n",
       "525     251620682\n",
       "547     212221986\n",
       "554     206022987\n",
       "587     245941409\n",
       "620     210323900\n",
       "800     205952324\n",
       "806     228711122\n",
       "825     245934421\n",
       "913     228711073\n",
       "1068    201923398\n",
       "1123    228709674\n",
       "1127    220160220\n",
       "1158    228728361\n",
       "1162    202068504\n",
       "1251    202084981\n",
       "1323    246056941\n",
       "1326    211389268\n",
       "1501    206004303\n",
       "1581    212273538\n",
       "1829    205894004\n",
       "2089    220214608\n",
       "Name: EPIC ID, dtype: int64"
      ]
     },
     "execution_count": 6,
     "metadata": {},
     "output_type": "execute_result"
    }
   ],
   "source": [
    "dfk_new['EPIC ID']"
   ]
  },
  {
   "cell_type": "code",
   "execution_count": 15,
   "metadata": {},
   "outputs": [
    {
     "name": "stdout",
     "output_type": "stream",
     "text": [
      "19\n",
      "882\n"
     ]
    }
   ],
   "source": [
    "dfk_per = dfk[dfk['Average percentage increase'] >= 40]\n",
    "dft_per = dft[dft['Average percentage increase'] >= 40]\n",
    "print(len(dfk_per))\n",
    "print(len(dft_per))"
   ]
  },
  {
   "cell_type": "code",
   "execution_count": 30,
   "metadata": {},
   "outputs": [],
   "source": [
    "dft_per.reset_index(drop = True, inplace = True)"
   ]
  },
  {
   "cell_type": "code",
   "execution_count": 35,
   "metadata": {},
   "outputs": [
    {
     "name": "stdout",
     "output_type": "stream",
     "text": [
      "30\n",
      "4\n",
      "19\n",
      "882\n"
     ]
    }
   ],
   "source": [
    "print(len(dfk_new))\n",
    "print(len(dft_new))\n",
    "print(len(dfk_per))\n",
    "print(len(dft_per))"
   ]
  },
  {
   "cell_type": "code",
   "execution_count": 45,
   "metadata": {},
   "outputs": [],
   "source": [
    "k_percent = []\n",
    "for i in range(len(dfk_new)):\n",
    "    k_percent.append(dfk_new['Average percentage increase'][i])"
   ]
  },
  {
   "cell_type": "code",
   "execution_count": 56,
   "metadata": {},
   "outputs": [
    {
     "name": "stdout",
     "output_type": "stream",
     "text": [
      "323021985\n",
      "213508874\n"
     ]
    }
   ],
   "source": [
    "print(dft['TIC ID'][1])\n",
    "print(dfk['EPIC ID'][1])"
   ]
  },
  {
   "cell_type": "code",
   "execution_count": 57,
   "metadata": {},
   "outputs": [
    {
     "name": "stdout",
     "output_type": "stream",
     "text": [
      "286.2068112\n",
      "-29.17695739\n"
     ]
    }
   ],
   "source": [
    "print(dft['RA'][1])\n",
    "print(dft['Dec'][1])"
   ]
  },
  {
   "cell_type": "code",
   "execution_count": 46,
   "metadata": {},
   "outputs": [
    {
     "data": {
      "text/plain": [
       "[0.7162700759039985,\n",
       " 1.44866528334441,\n",
       " 1.502232966215714,\n",
       " 0.5732965469360352,\n",
       " 4.875732603527251,\n",
       " 0.8045428677609092,\n",
       " 1.486788477216448,\n",
       " 1.6267275268381292,\n",
       " 160.30513935900748,\n",
       " 1.4680955468154535,\n",
       " 4.115457574198069,\n",
       " 5.971208072844005,\n",
       " 3.8500145558388,\n",
       " 1.5002440761875462,\n",
       " 3.6715177389291616,\n",
       " 3.185258146192207,\n",
       " 1.924777030944824,\n",
       " 4.333926502027009,\n",
       " 2.0096644111301587,\n",
       " 8.317642268680391,\n",
       " 2.9199966362544467,\n",
       " 4.305190107096797,\n",
       " 1.801562851125544,\n",
       " 3.1148532032966614,\n",
       " 6.938312248307831,\n",
       " 4.030343139444598,\n",
       " 3.9976258169520986,\n",
       " 4.797879755496979,\n",
       " 2.472644646962484,\n",
       " 20.93604859851656]"
      ]
     },
     "execution_count": 46,
     "metadata": {},
     "output_type": "execute_result"
    }
   ],
   "source": [
    "k_percent"
   ]
  },
  {
   "cell_type": "code",
   "execution_count": 40,
   "metadata": {},
   "outputs": [],
   "source": [
    "k_compiled = []\n",
    "\n",
    "for i in range(len(dfk_per)):\n",
    "    for j in range(len(dfk_new)):\n",
    "        if dfk_per['EPIC ID'][i] == dfk_new['EPIC ID'][j]:\n",
    "            k_compiled.append(dfk_per['EPIC ID'])"
   ]
  },
  {
   "cell_type": "code",
   "execution_count": 9,
   "metadata": {},
   "outputs": [
    {
     "data": {
      "text/plain": [
       "33      202787821\n",
       "240     228748525\n",
       "388     203072076\n",
       "446     212361547\n",
       "466     211307660\n",
       "897     211531844\n",
       "1049    220265249\n",
       "1309    220153407\n",
       "1350    220151612\n",
       "1390    251567665\n",
       "1534    211330045\n",
       "1556    228703128\n",
       "1600    213415045\n",
       "1712    211490411\n",
       "1808    238053643\n",
       "1892    246837733\n",
       "1963    201249247\n",
       "1995    211392649\n",
       "2020    220177687\n",
       "Name: EPIC ID, dtype: int64"
      ]
     },
     "execution_count": 9,
     "metadata": {},
     "output_type": "execute_result"
    }
   ],
   "source": [
    "dfk_per['EPIC ID']"
   ]
  },
  {
   "cell_type": "code",
   "execution_count": 13,
   "metadata": {},
   "outputs": [
    {
     "data": {
      "text/plain": [
       "2      138660274\n",
       "5      130717078\n",
       "8      188580163\n",
       "9      380166444\n",
       "10      38143679\n",
       "         ...    \n",
       "469    245799420\n",
       "471    117380455\n",
       "472      9665497\n",
       "476     48559268\n",
       "477    294301774\n",
       "Name: TIC ID, Length: 240, dtype: int64"
      ]
     },
     "execution_count": 13,
     "metadata": {},
     "output_type": "execute_result"
    }
   ],
   "source": [
    "dft_per['TIC ID'].head(240)"
   ]
  }
 ],
 "metadata": {
  "kernelspec": {
   "display_name": "Python 3",
   "language": "python",
   "name": "python3"
  },
  "language_info": {
   "codemirror_mode": {
    "name": "ipython",
    "version": 3
   },
   "file_extension": ".py",
   "mimetype": "text/x-python",
   "name": "python",
   "nbconvert_exporter": "python",
   "pygments_lexer": "ipython3",
   "version": "3.11.9"
  }
 },
 "nbformat": 4,
 "nbformat_minor": 2
}
