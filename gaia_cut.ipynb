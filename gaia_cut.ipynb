{
 "cells": [
  {
   "cell_type": "code",
   "execution_count": 7,
   "metadata": {},
   "outputs": [
    {
     "name": "stderr",
     "output_type": "stream",
     "text": [
      "C:\\Users\\thoma\\AppData\\Local\\Temp\\ipykernel_7824\\2501221555.py:4: DeprecationWarning: \n",
      "Pyarrow will become a required dependency of pandas in the next major release of pandas (pandas 3.0),\n",
      "(to allow more performant data types, such as the Arrow string type, and better interoperability with other libraries)\n",
      "but was not found to be installed on your system.\n",
      "If this would cause problems for you,\n",
      "please provide us feedback at https://github.com/pandas-dev/pandas/issues/54466\n",
      "        \n",
      "  import pandas as pd\n"
     ]
    }
   ],
   "source": [
    "import altaipony\n",
    "import numpy as np\n",
    "import matplotlib.pyplot as plt\n",
    "import pandas as pd\n",
    "%matplotlib inline"
   ]
  },
  {
   "cell_type": "code",
   "execution_count": 2,
   "metadata": {},
   "outputs": [],
   "source": [
    "#df = pd.read_csv(\"/home/codespace/pyVANtest/NDSTest/Gaia55ks.csv\")\n",
    "#df = df.fillna('99999')\n",
    "#df.to_csv(\"GAIAdata.dat\", sep = ' ')\n"
   ]
  },
  {
   "cell_type": "code",
   "execution_count": 3,
   "metadata": {},
   "outputs": [
    {
     "name": "stdout",
     "output_type": "stream",
     "text": [
      "('Des', 'EPIC_ID', 'RAdeg', 'DEdeg', 'Teff', 'logg')\n",
      "(44950,)\n"
     ]
    }
   ],
   "source": [
    "GAIA = np.genfromtxt('GAIAdata.dat', names=True)\n",
    "\n",
    "print(GAIA.dtype.names)\n",
    "\n",
    "print(GAIA.shape)"
   ]
  },
  {
   "cell_type": "code",
   "execution_count": 16,
   "metadata": {},
   "outputs": [
    {
     "name": "stdout",
     "output_type": "stream",
     "text": [
      "3410\n"
     ]
    }
   ],
   "source": [
    "Teff = GAIA['Teff']\n",
    "Tcut = np.where(Teff>4250)\n",
    "Teff = np.delete(Teff, Tcut)\n",
    "print(len(Teff))\n"
   ]
  },
  {
   "cell_type": "code",
   "execution_count": 17,
   "metadata": {},
   "outputs": [
    {
     "name": "stdout",
     "output_type": "stream",
     "text": [
      "3410\n"
     ]
    }
   ],
   "source": [
    "logg1 = GAIA['logg']\n",
    "logg2 = np.delete(logg1, Tcut)\n",
    "print(len(logg2))"
   ]
  },
  {
   "cell_type": "code",
   "execution_count": 18,
   "metadata": {},
   "outputs": [
    {
     "name": "stdout",
     "output_type": "stream",
     "text": [
      "3252\n"
     ]
    }
   ],
   "source": [
    "loggcut1 = np.where(logg2>5)\n",
    "logg3 = np.delete(logg2, loggcut1)\n",
    "loggcut2 = np.where(logg3<4)\n",
    "logg4 = np.delete(logg3, loggcut2)\n",
    "print(len(logg4))"
   ]
  },
  {
   "cell_type": "code",
   "execution_count": 19,
   "metadata": {},
   "outputs": [
    {
     "name": "stdout",
     "output_type": "stream",
     "text": [
      "3371\n",
      "3252\n"
     ]
    }
   ],
   "source": [
    "Teff1 = np.delete(Teff, loggcut1)\n",
    "Teff = np.delete(Teff1,loggcut2)\n",
    "print(len(Teff1))\n",
    "print(len(Teff))\n"
   ]
  },
  {
   "cell_type": "code",
   "execution_count": 20,
   "metadata": {},
   "outputs": [
    {
     "name": "stdout",
     "output_type": "stream",
     "text": [
      "3371\n"
     ]
    }
   ],
   "source": [
    "EPICID = GAIA['EPIC_ID']\n",
    "EPIC_ID = np.delete(EPICID, Tcut)\n",
    "EPIC_ID1 = np.delete(EPIC_ID, loggcut1)\n",
    "print(len(EPIC_ID1))"
   ]
  },
  {
   "cell_type": "code",
   "execution_count": 21,
   "metadata": {},
   "outputs": [
    {
     "name": "stdout",
     "output_type": "stream",
     "text": [
      "3252\n"
     ]
    }
   ],
   "source": [
    "EPIC_ID = np.delete(EPIC_ID1, loggcut2)\n",
    "print(len(EPIC_ID))"
   ]
  },
  {
   "cell_type": "code",
   "execution_count": 22,
   "metadata": {},
   "outputs": [],
   "source": [
    "f = open('cut_data.csv','w')\n",
    "f.write('EPICID Teff logg\\n')\n",
    "for i in range(0, len(Teff)):\n",
    "    f.write(\"{:f} {:f} {:f}\\n\".format(EPIC_ID[i],Teff[i],logg4[i]))\n",
    "f.close()"
   ]
  },
  {
   "cell_type": "code",
   "execution_count": 4,
   "metadata": {},
   "outputs": [],
   "source": [
    "## Filename: ('/home/codespace/pyVANtest/NDSTest/Gaia55kb.csv')"
   ]
  },
  {
   "cell_type": "code",
   "execution_count": 5,
   "metadata": {},
   "outputs": [],
   "source": [
    "## Only needed to be done once to get rid of commas in the csv that was created using the TOPCAT crossmatch\n",
    "\n",
    "# import csv\n",
    "\n",
    "# r = csv.reader(open('/home/codespace/pyVANtest/NDSTest/Gaia55kb.csv', \"rU\"), delimiter=',')\n",
    "# w = csv.writer(open(\"Gaia55k.csv\", 'w'), delimiter=' ')\n",
    "# w.writerows(r)"
   ]
  },
  {
   "cell_type": "code",
   "execution_count": 6,
   "metadata": {},
   "outputs": [],
   "source": [
    "#df = pd.read_csv(\"/home/codespace/pyVANtest/NDSTest/Gaia55ks.csv\")\n"
   ]
  },
  {
   "cell_type": "code",
   "execution_count": 7,
   "metadata": {},
   "outputs": [],
   "source": [
    "#T_eff = df['Teff']\n",
    "#T_eff_NaN = np.where(T_eff==0)\n",
    "#T_eff = np.delete(T_eff, T_eff_NaN)\n",
    "#T_eff = T_eff[np.logical_not(np.isnan(T_eff))]\n",
    "#T_eff = np.where(T_eff<=4250)\n",
    "#T_eff = T_eff[0]\n",
    "#print(len(T_eff))\n"
   ]
  },
  {
   "cell_type": "code",
   "execution_count": 8,
   "metadata": {},
   "outputs": [],
   "source": [
    "#EPICID = df['EPIC ID']\n",
    "#EPICID = np.delete(EPICID,T_eff)\n",
    "#print(len(EPICID))"
   ]
  },
  {
   "cell_type": "code",
   "execution_count": 9,
   "metadata": {},
   "outputs": [],
   "source": [
    "#logg = df['logg']\n",
    "#logg = np.delete(logg, T_eff[0])\n",
    "#print(len(logg))"
   ]
  }
 ],
 "metadata": {
  "kernelspec": {
   "display_name": "Python 3",
   "language": "python",
   "name": "python3"
  },
  "language_info": {
   "codemirror_mode": {
    "name": "ipython",
    "version": 3
   },
   "file_extension": ".py",
   "mimetype": "text/x-python",
   "name": "python",
   "nbconvert_exporter": "python",
   "pygments_lexer": "ipython3",
   "version": "3.11.8"
  }
 },
 "nbformat": 4,
 "nbformat_minor": 2
}
