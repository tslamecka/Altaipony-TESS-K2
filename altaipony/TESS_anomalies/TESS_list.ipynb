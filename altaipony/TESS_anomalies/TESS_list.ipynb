{
 "cells": [
  {
   "cell_type": "code",
   "execution_count": 1,
   "metadata": {},
   "outputs": [],
   "source": [
    "from altaipony.lcio import from_mast\n",
    "import matplotlib.pyplot as plt\n",
    "import numpy as np\n",
    "import pandas as pd\n",
    "pd.set_option('display.float_format', lambda x: '%.6f' % x)\n",
    "%matplotlib inline"
   ]
  },
  {
   "cell_type": "code",
   "execution_count": 2,
   "metadata": {},
   "outputs": [
    {
     "name": "stderr",
     "output_type": "stream",
     "text": [
      "<>:1: DeprecationWarning: invalid escape sequence '\\V'\n",
      "<>:1: DeprecationWarning: invalid escape sequence '\\V'\n",
      "C:\\Users\\thoma\\AppData\\Local\\Temp\\ipykernel_21344\\3915017766.py:1: DeprecationWarning: invalid escape sequence '\\V'\n",
      "  df = pd.read_csv(\"C:\\Vs_code_projects\\mdwarf_flares\\TESS_catalogue_revised.csv\")\n"
     ]
    }
   ],
   "source": [
    "df = pd.read_csv(\"C:\\Vs_code_projects\\mdwarf_flares\\TESS_catalogue_revised.csv\")"
   ]
  },
  {
   "cell_type": "code",
   "execution_count": 3,
   "metadata": {},
   "outputs": [],
   "source": [
    "sort = df.sort_values(by = 'Highest percentage increase', ascending = False)"
   ]
  },
  {
   "cell_type": "code",
   "execution_count": 4,
   "metadata": {},
   "outputs": [
    {
     "data": {
      "text/html": [
       "<div>\n",
       "<style scoped>\n",
       "    .dataframe tbody tr th:only-of-type {\n",
       "        vertical-align: middle;\n",
       "    }\n",
       "\n",
       "    .dataframe tbody tr th {\n",
       "        vertical-align: top;\n",
       "    }\n",
       "\n",
       "    .dataframe thead th {\n",
       "        text-align: right;\n",
       "    }\n",
       "</style>\n",
       "<table border=\"1\" class=\"dataframe\">\n",
       "  <thead>\n",
       "    <tr style=\"text-align: right;\">\n",
       "      <th></th>\n",
       "      <th>Unnamed: 0.1</th>\n",
       "      <th>Unnamed: 0</th>\n",
       "      <th>TIC ID</th>\n",
       "      <th>Teff</th>\n",
       "      <th>logg</th>\n",
       "      <th>Flare #</th>\n",
       "      <th>Observation time</th>\n",
       "      <th>Average flare duration</th>\n",
       "      <th>Longest flare duration</th>\n",
       "      <th>Shortest flare duration</th>\n",
       "      <th>Average percentage increase</th>\n",
       "      <th>Highest percentage increase</th>\n",
       "      <th>Lowest percentage increase</th>\n",
       "    </tr>\n",
       "  </thead>\n",
       "  <tbody>\n",
       "    <tr>\n",
       "      <th>776</th>\n",
       "      <td>1017</td>\n",
       "      <td>1017</td>\n",
       "      <td>TIC 9707662</td>\n",
       "      <td>3489.510000</td>\n",
       "      <td>4.750000</td>\n",
       "      <td>4</td>\n",
       "      <td>109.418341</td>\n",
       "      <td>0.218753</td>\n",
       "      <td>0.312507</td>\n",
       "      <td>0.104167</td>\n",
       "      <td>55258293.147773</td>\n",
       "      <td>217451360.961777</td>\n",
       "      <td>125725.209904</td>\n",
       "    </tr>\n",
       "    <tr>\n",
       "      <th>1604</th>\n",
       "      <td>2154</td>\n",
       "      <td>2154</td>\n",
       "      <td>TIC 438118505</td>\n",
       "      <td>3870.190000</td>\n",
       "      <td>4.770000</td>\n",
       "      <td>7</td>\n",
       "      <td>161.075697</td>\n",
       "      <td>0.205367</td>\n",
       "      <td>0.548646</td>\n",
       "      <td>0.083331</td>\n",
       "      <td>90992520.168841</td>\n",
       "      <td>196572896.410212</td>\n",
       "      <td>74.115586</td>\n",
       "    </tr>\n",
       "    <tr>\n",
       "      <th>401</th>\n",
       "      <td>496</td>\n",
       "      <td>496</td>\n",
       "      <td>TIC 243010858</td>\n",
       "      <td>4164.590000</td>\n",
       "      <td>4.660000</td>\n",
       "      <td>20</td>\n",
       "      <td>230.531467</td>\n",
       "      <td>0.151043</td>\n",
       "      <td>0.375029</td>\n",
       "      <td>0.027780</td>\n",
       "      <td>9610427.942256</td>\n",
       "      <td>193511355.948830</td>\n",
       "      <td>-587948.389877</td>\n",
       "    </tr>\n",
       "    <tr>\n",
       "      <th>452</th>\n",
       "      <td>569</td>\n",
       "      <td>569</td>\n",
       "      <td>TIC 243010641</td>\n",
       "      <td>4243.920000</td>\n",
       "      <td>4.470000</td>\n",
       "      <td>12</td>\n",
       "      <td>178.469742</td>\n",
       "      <td>0.142946</td>\n",
       "      <td>0.409754</td>\n",
       "      <td>0.027780</td>\n",
       "      <td>3482844.715235</td>\n",
       "      <td>41790931.792714</td>\n",
       "      <td>2.862048</td>\n",
       "    </tr>\n",
       "    <tr>\n",
       "      <th>71</th>\n",
       "      <td>72</td>\n",
       "      <td>72</td>\n",
       "      <td>TIC 435332777</td>\n",
       "      <td>3902.010000</td>\n",
       "      <td>4.720000</td>\n",
       "      <td>25</td>\n",
       "      <td>204.572210</td>\n",
       "      <td>0.475863</td>\n",
       "      <td>4.771273</td>\n",
       "      <td>0.034724</td>\n",
       "      <td>854873.320248</td>\n",
       "      <td>21660506.476327</td>\n",
       "      <td>-262136.892791</td>\n",
       "    </tr>\n",
       "  </tbody>\n",
       "</table>\n",
       "</div>"
      ],
      "text/plain": [
       "      Unnamed: 0.1  Unnamed: 0          TIC ID        Teff     logg  Flare #  \\\n",
       "776           1017        1017     TIC 9707662 3489.510000 4.750000        4   \n",
       "1604          2154        2154   TIC 438118505 3870.190000 4.770000        7   \n",
       "401            496         496   TIC 243010858 4164.590000 4.660000       20   \n",
       "452            569         569   TIC 243010641 4243.920000 4.470000       12   \n",
       "71              72          72   TIC 435332777 3902.010000 4.720000       25   \n",
       "\n",
       "      Observation time  Average flare duration  Longest flare duration  \\\n",
       "776         109.418341                0.218753                0.312507   \n",
       "1604        161.075697                0.205367                0.548646   \n",
       "401         230.531467                0.151043                0.375029   \n",
       "452         178.469742                0.142946                0.409754   \n",
       "71          204.572210                0.475863                4.771273   \n",
       "\n",
       "      Shortest flare duration  Average percentage increase  \\\n",
       "776                  0.104167              55258293.147773   \n",
       "1604                 0.083331              90992520.168841   \n",
       "401                  0.027780               9610427.942256   \n",
       "452                  0.027780               3482844.715235   \n",
       "71                   0.034724                854873.320248   \n",
       "\n",
       "      Highest percentage increase  Lowest percentage increase  \n",
       "776              217451360.961777               125725.209904  \n",
       "1604             196572896.410212                   74.115586  \n",
       "401              193511355.948830              -587948.389877  \n",
       "452               41790931.792714                    2.862048  \n",
       "71                21660506.476327              -262136.892791  "
      ]
     },
     "execution_count": 4,
     "metadata": {},
     "output_type": "execute_result"
    }
   ],
   "source": [
    "sort.head()"
   ]
  },
  {
   "cell_type": "code",
   "execution_count": 5,
   "metadata": {},
   "outputs": [],
   "source": [
    "large = np.where(df['Average percentage increase'] > 100)"
   ]
  },
  {
   "cell_type": "code",
   "execution_count": 6,
   "metadata": {},
   "outputs": [
    {
     "data": {
      "text/plain": [
       "694"
      ]
     },
     "execution_count": 6,
     "metadata": {},
     "output_type": "execute_result"
    }
   ],
   "source": [
    "len(large[0])"
   ]
  },
  {
   "cell_type": "code",
   "execution_count": 7,
   "metadata": {},
   "outputs": [],
   "source": [
    "negative = np.where(df['Lowest percentage increase'] < 0)"
   ]
  },
  {
   "cell_type": "code",
   "execution_count": 8,
   "metadata": {},
   "outputs": [
    {
     "data": {
      "text/plain": [
       "278"
      ]
     },
     "execution_count": 8,
     "metadata": {},
     "output_type": "execute_result"
    }
   ],
   "source": [
    "len(negative[0])"
   ]
  },
  {
   "cell_type": "code",
   "execution_count": 9,
   "metadata": {},
   "outputs": [],
   "source": [
    "massive = np.where(df['Highest percentage increase'] > 100000)"
   ]
  },
  {
   "cell_type": "code",
   "execution_count": 10,
   "metadata": {},
   "outputs": [
    {
     "data": {
      "text/plain": [
       "75"
      ]
     },
     "execution_count": 10,
     "metadata": {},
     "output_type": "execute_result"
    }
   ],
   "source": [
    "len(massive[0])"
   ]
  },
  {
   "cell_type": "markdown",
   "metadata": {},
   "source": []
  }
 ],
 "metadata": {
  "kernelspec": {
   "display_name": "Python 3",
   "language": "python",
   "name": "python3"
  },
  "language_info": {
   "codemirror_mode": {
    "name": "ipython",
    "version": 3
   },
   "file_extension": ".py",
   "mimetype": "text/x-python",
   "name": "python",
   "nbconvert_exporter": "python",
   "pygments_lexer": "ipython3",
   "version": "3.11.9"
  }
 },
 "nbformat": 4,
 "nbformat_minor": 2
}
